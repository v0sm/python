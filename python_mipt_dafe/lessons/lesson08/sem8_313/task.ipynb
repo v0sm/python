{
 "cells": [
  {
   "cell_type": "markdown",
   "metadata": {},
   "source": [
    "# Декораторы"
   ]
  },
  {
   "cell_type": "markdown",
   "metadata": {},
   "source": [
    "# Задача 1: Суммы прогрессий\n",
    "\n",
    "Необходимо реализовать функционал для подсчета суммы первых n + 1 - членов арифметической и геометрической прогрессии с возможностями настройки шага и значения первого члена. n соответствует числу вызовов функции по подсчету суммы. \n",
    "\n",
    "Предполагаемые сценарии использования:\n",
    "\n",
    "```python\n",
    "\n",
    "sum_arithmetic = make_arithmetic_progression_sum(first_member=2, step=0.5)\n",
    "sum_geometric = make_geometric_progression_sum(first_member=1, step=0.5)\n",
    "\n",
    "print(sum_arithmetic())\n",
    "print(sum_arithmetic())\n",
    "print('')\n",
    "print(sum_geometric())\n",
    "print(sum_geometric())\n",
    "```\n",
    "\n",
    "*Вывод*:\n",
    "```console\n",
    "4.5\n",
    "7.5\n",
    "\n",
    "1.5\n",
    "1.75\n",
    "```"
   ]
  },
  {
   "cell_type": "code",
<<<<<<< HEAD
   "execution_count": 1,
   "metadata": {},
   "outputs": [],
=======
<<<<<<< HEAD
   "execution_count": 5,
   "metadata": {},
   "outputs": [
    {
     "name": "stdout",
     "output_type": "stream",
     "text": [
      "4.5\n",
      "7.5\n",
      "\n",
      "1.5\n",
      "1.75\n"
     ]
    }
   ],
   "source": [
    "def make_arithmetic_progression_sum(first_member: float, step: float):\n",
    "    general_sum = first_member\n",
    "    last_elem = first_member\n",
    "\n",
    "    def sum_arithmetic():\n",
    "        nonlocal general_sum\n",
    "        nonlocal last_elem\n",
    "        last_elem += step\n",
    "        general_sum += last_elem\n",
    "        return general_sum\n",
    "    \n",
    "    return sum_arithmetic\n",
    "\n",
    "def make_geometric_progression_sum(first_member: float, step: float):\n",
    "    general_product = first_member\n",
    "    last_elem = first_member\n",
    "\n",
    "    def product_geo():\n",
    "        nonlocal general_product\n",
    "        nonlocal last_elem\n",
    "        last_elem *= step\n",
    "        general_product += last_elem\n",
    "        return general_product\n",
    "    \n",
    "    return product_geo\n",
    "\n",
    "sum_arithmetic = make_arithmetic_progression_sum(first_member=2, step=0.5)\n",
    "sum_geometric = make_geometric_progression_sum(first_member=1, step=0.5)\n",
    "\n",
    "print(sum_arithmetic())\n",
    "print(sum_arithmetic())\n",
    "print('')\n",
    "print(sum_geometric())\n",
    "print(sum_geometric())\n",
    "    \n",
    "\n",
    "\n"
   ]
  },
  {
   "cell_type": "code",
   "execution_count": null,
   "metadata": {},
   "outputs": [],
   "source": []
=======
   "execution_count": 1,
   "metadata": {},
   "outputs": [],
>>>>>>> 29be715 (add lesson 12)
   "source": [
    "def make_arithmetic_progression_sum(first_member: float, step: float):\n",
    "    # ваш код\n",
    "    pass\n",
    "\n",
    "\n",
    "def make_geometric_progression_sum(first_member: float, step: float):\n",
    "    # ваш код\n",
    "    pass"
   ]
<<<<<<< HEAD
=======
>>>>>>> 90ba8be (add lesson 12)
>>>>>>> 29be715 (add lesson 12)
  },
  {
   "cell_type": "markdown",
   "metadata": {},
   "source": [
    "# Задача 2: Среднее\n",
    "\n",
    "Предположим, что мы занимаемся инвистициями и у нас есть некоторый портфель акций. Каждый день наш портфель приносит нам некоторый доход или убыток. Мы задались целью: каждый день фиксированного периода определять средний доход (или убыток), который мы получаем. С этой целью мы реализовали функцию get_avg(), принимающую на вход значение заработка на сегодняшний день. Наша функция вычисляет среднее в течении определнного фиксированного периода, скажем, 30 дней, после чего обнуляется и начинает вычислять среднее заново, но уже по новым значениям. \n",
    "\n",
    "Также у нас есть друзья инвесторы, которые оценили разработанный нами функционал и хотели бы заполучить свой экземпляр функции get_avg, для подсчета своего дохода в течении интересующего их промежутка времени.\n",
    "\n",
    "Ваша задача: реализовать функционал, для получения произвольного числа независимых функций get_avg(). В момент создания функции сообщается длительность периода расчета среднего, по достижении которого среднее начинает расчитываться заново, а также наш начальный доход. При каждом вызове функции передается число - заработок в текущий день.\n",
    "\n",
    "Предполагаемые сценарии использования:\n",
    "\n",
    "```python\n",
    "\n",
    "get_avg1 = make_averager(accumulation_period=2)\n",
    "print(get_avg1(78))\n",
    "print(get_avg1(-17))\n",
    "print(get_avg1(52))\n",
    "```\n",
    "\n",
    "*Вывод*:\n",
    "```console\n",
    "78.0\n",
    "30.5\n",
    "52.0\n",
    "```"
   ]
  },
  {
   "cell_type": "code",
<<<<<<< HEAD
   "execution_count": 2,
=======
<<<<<<< HEAD
   "execution_count": 13,
>>>>>>> 29be715 (add lesson 12)
   "metadata": {},
   "outputs": [],
   "source": [
<<<<<<< HEAD
    "# ваш код"
=======
    "def make_averager(accumulation_period: int):\n",
    "    amount = 0\n",
    "    general_sum = 0\n",
    "\n",
    "    def get_avg1(elem: float):\n",
    "        nonlocal amount\n",
    "        nonlocal general_sum\n",
    "        amount += 1\n",
    "        general_sum += elem\n",
    "        mean = general_sum / amount\n",
    "        if amount == accumulation_period:\n",
    "            amount = 0\n",
    "            general_sum = 0\n",
    "        \n",
    "        return mean\n",
    "    \n",
    "    return get_avg1\n",
    "    \n",
    "get_avg1 = make_averager(accumulation_period=2)\n",
    "print(get_avg1(78))\n",
    "print(get_avg1(-17))\n",
    "print(get_avg1(52))\n"
=======
   "execution_count": 2,
   "metadata": {},
   "outputs": [],
   "source": [
    "# ваш код"
>>>>>>> 90ba8be (add lesson 12)
>>>>>>> 29be715 (add lesson 12)
   ]
  },
  {
   "cell_type": "markdown",
   "metadata": {},
   "source": [
    "# Задача 3: Сбор статистик\n",
    "\n",
    "Предположим, что мы работаем в отделе аналитики некоторой компании. В компании также существуют другие отделы, которые разрабатывают некоторые функции для осуществления сложных вычислений. Также в нашей компании существует отдел планирования, который следит за исполнением сроков реализации той или иной функции, и в случае, если разработка затягивается, начинает торопить разработчиков. В таком случае разработчики пишут медленный код на скорую руку, что расстраивает заказчиков.\n",
    "\n",
    "Наша задача, как аналитиков, собрать статистику по проблемным функциям. Нас интересует количество вызовов функции, а также среднее время выполнения функции. Все статистики собираются в отдельную базу данных - специальный единый словарь. Более того, статистика должна собираться не для всех функций, а только для функций, зарегестрированных в базе данных. Затем эта информация будет передана начальству, чтобы в скорейшее время заняться переписанием долгих и популярных функций.\n",
    "\n",
    "Ваша задача реализовать функционал для регистрации функций в БД и сбора статистик. "
   ]
  },
  {
   "cell_type": "code",
<<<<<<< HEAD
   "execution_count": 3,
=======
<<<<<<< HEAD
   "execution_count": 23,
>>>>>>> 29be715 (add lesson 12)
   "metadata": {},
   "outputs": [],
   "source": [
    "functions_register = {}\n",
    "\n",
<<<<<<< HEAD
    "# ваш код"
=======
    "def register(func):\n",
    "    global functions_register\n",
    "    if func not in functions_register:\n",
    "        functions_register[func.__name__] = {\"calls_amount\": 0, \"time_avg\": 0}\n",
    "    pass\n",
    "\n",
    "def statistic_deko(func):\n",
    "    register(func)\n",
    "\n",
    "    @wraps(func)\n",
    "    def func_with_stats(*args, **kwargs):\n",
    "        global functions_register\n",
    "        time_start = time()\n",
    "\n",
    "        result = func(*args, **kwargs)\n",
    "\n",
    "        time_finish = time()\n",
    "        work_time = time_finish - time_start\n",
    "        total_time = functions_register[func.__name__][\"time_avg\"] * functions_register[func.__name__][\"calls_amount\"]\n",
    "        functions_register[func.__name__][\"calls_amount\"] += 1\n",
    "        new_total_time = total_time + work_time\n",
    "\n",
    "        functions_register[func.__name__][\"time_avg\"] = new_total_time / functions_register[func.__name__][\"calls_amount\"]\n",
    "\n",
    "        return result\n",
    "    \n",
    "    return func_with_stats\n",
    "\n",
    "@statistic_deko\n",
    "def rand_sleep():\n",
    "    t = randint(1, 4)\n",
    "    sleep(t)\n",
    "    return t"
   ]
  },
  {
   "cell_type": "code",
   "execution_count": 26,
   "metadata": {},
   "outputs": [
    {
     "name": "stdout",
     "output_type": "stream",
     "text": [
      "4 4 4 3\n",
      "{'rand_sleep': {'calls_amount': 12, 'time_avg': 3.000802834828695}}\n"
     ]
    }
   ],
   "source": [
    "print(rand_sleep(), rand_sleep(), rand_sleep(), rand_sleep())\n",
    "print(functions_register)"
=======
   "execution_count": 3,
   "metadata": {},
   "outputs": [],
   "source": [
    "functions_register = {}\n",
    "\n",
    "# ваш код"
>>>>>>> 90ba8be (add lesson 12)
>>>>>>> 29be715 (add lesson 12)
   ]
  },
  {
   "cell_type": "markdown",
   "metadata": {},
   "source": [
    "# Задача 4: наивный LRU-кэш\n",
    "\n",
    "Представим, что вы являетесь сотрудником департамента оптимизаций некоторой компании, занимающейся разработкой ПО для научных вычислений. Раздел аналитиков предоставил вам исследование, согласно которому значительная часть функций в вашей компании работает очень медленно и должна быть оптимизирована. Более того, согласно исследованию, вызовы этих функций в основном осуществляются с ограниченным множеством аргументов. Для оптимизации этих функций вы решили использовать LRU-кэш:\n",
    "\n",
    "- вы заранее фиксируете размер кэша - памяти, выделенной для хранения результатов вычислений функции;  \n",
    "- в кэше хранится следующая информация: аргументы вызова - результат;  \n",
    "- помимо этого для каждой пары хранится время их последнего вызова;  \n",
    "- в случае достижения объема кэша установленной границы удаляются значения, чьи времена последних вызовов являются самыми старыми;  \n",
    "\n",
    "Для применения данного подхода ко всем проблемным функциям, не переписывая сами функции, вы решили реализовать параметрический декоратор, т.к. для разных функций требуется разный размер кеша.\n",
    "\n",
    "Ваша задача: реализовать описанный декоратор."
   ]
  },
  {
   "cell_type": "code",
<<<<<<< HEAD
<<<<<<< HEAD
   "execution_count": 4,
   "metadata": {},
   "outputs": [],
   "source": [
    "# ваш код"
=======
=======
>>>>>>> 29be715 (add lesson 12)
   "execution_count": 1,
   "metadata": {},
   "outputs": [],
   "source": [
    "from time import time, sleep\n",
    "time0 = time()\n",
    "\n",
    "def LRU_cache(cache_size: int = 10):\n",
    "\n",
    "    def cache_decor(func):\n",
    "\n",
    "        cache_dir = {}\n",
    "\n",
    "        def caching(*args, **kwargs):\n",
    "            nonlocal cache_dir\n",
    "\n",
    "            key = args + tuple(kwargs.values())\n",
    "            if key in cache_dir:\n",
    "                cache_dir[key][\"time_call\"] = time() - time0\n",
    "                return cache_dir[key][\"value\"]\n",
    "            if len(cache_dir) == cache_size:\n",
    "                min_time = 1000000\n",
    "                for i in cache_dir:\n",
    "                    if cache_dir[i][\"time_call\"] < min_time:\n",
    "                        min_time = cache_dir[i][\"time_call\"]\n",
    "                        del_elem = i\n",
    "                del cache_dir[del_elem]\n",
    "            \n",
    "            cache_dir[key] = {\"value\": func(*args, **kwargs), \"time_call\": time() - time0}\n",
    "            return cache_dir[key][\"value\"]\n",
    "        return caching\n",
    "    return cache_decor\n",
    "                \n",
    "\n",
    "\n",
    "@LRU_cache(5)\n",
    "def some(t: int):\n",
    "    sleep(t)\n",
    "    return f\"hurray {t} sec\""
   ]
  },
  {
   "cell_type": "code",
   "execution_count": 5,
   "metadata": {},
   "outputs": [
    {
     "name": "stdout",
     "output_type": "stream",
     "text": [
      "hurray 0 sec\n",
      "hurray 1 sec\n",
      "hurray 2 sec\n",
      "hurray 3 sec\n",
      "hurray 4 sec\n",
      "hurray 5 sec\n",
      "hurray 5 sec\n",
      "hurray 3 sec\n",
      "hurray 3 sec\n"
     ]
    }
   ],
   "source": [
    "\n",
    "for i in range(6):\n",
    "    print(some(i))\n",
    "print(some(5))\n",
    "print(some(3))\n",
    "print(some(3))"
   ]
  },
  {
   "cell_type": "code",
   "execution_count": 12,
   "metadata": {},
   "outputs": [
    {
     "name": "stdout",
     "output_type": "stream",
     "text": [
      "{(3,): {'value': 'hurray 3 sec', 'time_call': 252.50939512252808}, (1,): {'value': 'hurray 1 sec', 'time_call': 241.50339126586914}, (2,): {'value': 'hurray 2 sec', 'time_call': 243.50515866279602}, (4,): {'value': 'hurray 4 sec', 'time_call': 247.50650429725647}, (5,): {'value': 'hurray 5 sec', 'time_call': 252.50939512252808}}\n",
      "\n"
     ]
    }
   ],
   "source": [
    "print(some.__closure__[0].cell_contents)\n",
    "print()\n",
    "# for i in range()"
<<<<<<< HEAD
>>>>>>> 78a7da7 (10.11.23)
=======
=======
   "execution_count": 4,
   "metadata": {},
   "outputs": [],
   "source": [
    "# ваш код"
>>>>>>> 90ba8be (add lesson 12)
>>>>>>> 29be715 (add lesson 12)
   ]
  }
 ],
 "metadata": {
  "kernelspec": {
   "display_name": "Python 3",
   "language": "python",
   "name": "python3"
  },
  "language_info": {
   "codemirror_mode": {
    "name": "ipython",
    "version": 3
   },
   "file_extension": ".py",
   "mimetype": "text/x-python",
   "name": "python",
   "nbconvert_exporter": "python",
   "pygments_lexer": "ipython3",
<<<<<<< HEAD
   "version": "3.11.1"
=======
<<<<<<< HEAD
   "version": "3.11.5"
=======
   "version": "3.11.1"
>>>>>>> 90ba8be (add lesson 12)
>>>>>>> 29be715 (add lesson 12)
  }
 },
 "nbformat": 4,
 "nbformat_minor": 2
}
