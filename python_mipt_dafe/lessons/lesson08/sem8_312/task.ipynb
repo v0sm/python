{
 "cells": [
  {
   "cell_type": "markdown",
   "metadata": {},
   "source": [
    "# Декораторы"
   ]
  },
  {
   "cell_type": "markdown",
   "metadata": {},
   "source": [
    "# Задача 1: Суммы прогрессий\n",
    "\n",
    "Необходимо реализовать функционал для подсчета суммы первых n + 1 - членов арифметической и геометрической прогрессии с возможностями настройки шага и значения первого члена. n соответствует числу вызовов функции по подсчету суммы. \n",
    "\n",
    "Предполагаемые сценарии использования:\n",
    "\n",
    "```python\n",
    "\n",
    "sum_arithmetic = make_arithmetic_progression_sum(first_member=2, step=0.5)\n",
    "sum_geometric = make_geometric_progression_sum(first_member=1, step=0.5)\n",
    "\n",
    "print(sum_arithmetic())\n",
    "print(sum_arithmetic())\n",
    "print('')\n",
    "print(sum_geometric())\n",
    "print(sum_geometric())\n",
    "```\n",
    "\n",
    "*Вывод*:\n",
    "```console\n",
    "4.5\n",
    "7.5\n",
    "\n",
    "1.5\n",
    "1.75\n",
    "```"
   ]
  },
  {
   "cell_type": "code",
<<<<<<< HEAD
<<<<<<< HEAD
   "execution_count": 5,
=======
=======
>>>>>>> 29be715 (add lesson 12)
   "execution_count": 4,
>>>>>>> 5642ce0397dcf098becba1d620b7df8610ea4e7f
   "metadata": {},
   "outputs": [
    {
     "name": "stdout",
     "output_type": "stream",
     "text": [
      "4.5\n",
      "7.5\n",
      "\n",
      "1.5\n",
      "1.75\n"
     ]
    }
   ],
   "source": [
    "def make_arithmetic_progression_sum(first_member: float, step: float):\n",
<<<<<<< HEAD
=======
=======
<<<<<<< HEAD
   "execution_count": 5,
=======
   "execution_count": 4,
>>>>>>> 5642ce0397dcf098becba1d620b7df8610ea4e7f
   "metadata": {},
   "outputs": [
    {
     "name": "stdout",
     "output_type": "stream",
     "text": [
      "4.5\n",
      "7.5\n",
      "\n",
      "1.5\n",
      "1.75\n"
     ]
    }
   ],
   "source": [
    "def make_arithmetic_progression_sum(first_member: float, step: float):\n",
>>>>>>> 29be715 (add lesson 12)
<<<<<<< HEAD
    "    general_sum = first_member\n",
    "    last_elem = first_member\n",
=======
<<<<<<< HEAD
=======
>>>>>>> 90ba8be (add lesson 12)
>>>>>>> 29be715 (add lesson 12)
    "    last_elem = first_member\n",
    "    progr_summ = first_member\n",
    "\n",
    "    def update_sum():\n",
    "        nonlocal last_elem, progr_summ\n",
    "        new_elem = last_elem + step\n",
    "        progr_summ += new_elem\n",
    "        last_elem = new_elem\n",
    "        return progr_summ\n",
    "\n",
    "    return update_sum\n",
<<<<<<< HEAD
>>>>>>> 5642ce0397dcf098becba1d620b7df8610ea4e7f
=======
<<<<<<< HEAD
>>>>>>> 29be715 (add lesson 12)
    "\n",
    "    def sum_arithmetic():\n",
    "        nonlocal general_sum\n",
    "        nonlocal last_elem\n",
    "        last_elem += step\n",
    "        general_sum += last_elem\n",
    "        return general_sum\n",
    "    \n",
    "    return sum_arithmetic\n",
    "\n",
    "def make_geometric_progression_sum(first_member: float, step: float):\n",
<<<<<<< HEAD
=======
    "    # ваш код\n",
    "    pass"
=======
>>>>>>> 5642ce0397dcf098becba1d620b7df8610ea4e7f
    "\n",
    "    def sum_arithmetic():\n",
    "        nonlocal general_sum\n",
    "        nonlocal last_elem\n",
    "        last_elem += step\n",
    "        general_sum += last_elem\n",
    "        return general_sum\n",
    "    \n",
    "    return sum_arithmetic\n",
    "\n",
    "def make_geometric_progression_sum(first_member: float, step: float):\n",
>>>>>>> 29be715 (add lesson 12)
    "    general_product = first_member\n",
    "    last_elem = first_member\n",
    "\n",
    "    def product_geo():\n",
    "        nonlocal general_product\n",
    "        nonlocal last_elem\n",
    "        last_elem *= step\n",
    "        general_product += last_elem\n",
    "        return general_product\n",
    "    \n",
    "    return product_geo\n",
    "\n",
    "sum_arithmetic = make_arithmetic_progression_sum(first_member=2, step=0.5)\n",
    "sum_geometric = make_geometric_progression_sum(first_member=1, step=0.5)\n",
    "\n",
    "print(sum_arithmetic())\n",
    "print(sum_arithmetic())\n",
    "print('')\n",
    "print(sum_geometric())\n",
    "print(sum_geometric())\n",
    "    \n",
    "\n",
    "\n"
<<<<<<< HEAD
=======
>>>>>>> 90ba8be (add lesson 12)
>>>>>>> 29be715 (add lesson 12)
   ]
  },
  {
   "cell_type": "code",
<<<<<<< HEAD
=======
<<<<<<< HEAD
=======
<<<<<<< HEAD
=======
>>>>>>> 90ba8be (add lesson 12)
>>>>>>> 29be715 (add lesson 12)
   "execution_count": 6,
   "metadata": {},
   "outputs": [
    {
     "name": "stdout",
     "output_type": "stream",
     "text": [
      "4.5\n",
      "7.5\n",
      "11.0\n"
     ]
    }
   ],
   "source": [
    "sum_arithmetic = make_arithmetic_progression_sum(first_member=2, step=0.5)\n",
    "\n",
    "print(sum_arithmetic())\n",
    "print(sum_arithmetic())\n",
    "print(sum_arithmetic())\n"
   ]
  },
  {
   "cell_type": "code",
<<<<<<< HEAD
>>>>>>> 5642ce0397dcf098becba1d620b7df8610ea4e7f
=======
<<<<<<< HEAD
=======
>>>>>>> 5642ce0397dcf098becba1d620b7df8610ea4e7f
>>>>>>> 90ba8be (add lesson 12)
>>>>>>> 29be715 (add lesson 12)
   "execution_count": null,
   "metadata": {},
   "outputs": [],
   "source": []
  },
  {
   "cell_type": "markdown",
   "metadata": {},
   "source": [
    "# Задача 2: Среднее\n",
    "\n",
    "Предположим, что мы занимаемся инвистициями и у нас есть некоторый портфель акций. Каждый день наш портфель приносит нам некоторый доход или убыток. Мы задались целью: каждый день фиксированного периода определять средний доход (или убыток), который мы получаем. С этой целью мы реализовали функцию get_avg(), принимающую на вход значение заработка на сегодняшний день. Наша функция вычисляет среднее в течении определнного фиксированного периода, скажем, 30 дней, после чего обнуляется и начинает вычислять среднее заново, но уже по новым значениям. \n",
    "\n",
    "Также у нас есть друзья инвесторы, которые оценили разработанный нами функционал и хотели бы заполучить свой экземпляр функции get_avg, для подсчета своего дохода в течении интересующего их промежутка времени.\n",
    "\n",
    "Ваша задача: реализовать функционал, для получения произвольного числа независимых функций get_avg(). В момент создания функции сообщается длительность периода расчета среднего, по достижении которого среднее начинает расчитываться заново, а также наш начальный доход. При каждом вызове функции передается число - заработок в текущий день.\n",
    "\n",
    "Предполагаемые сценарии использования:\n",
    "\n",
    "```python\n",
    "\n",
    "get_avg1 = make_averager(accumulation_period=2)\n",
    "print(get_avg1(78))\n",
    "print(get_avg1(-17))\n",
    "print(get_avg1(52))\n",
    "```\n",
    "\n",
    "*Вывод*:\n",
    "```console\n",
    "78.0\n",
    "30.5\n",
    "52.0\n",
    "```"
   ]
  },
  {
   "cell_type": "code",
<<<<<<< HEAD
<<<<<<< HEAD
   "execution_count": 13,
=======
=======
>>>>>>> 29be715 (add lesson 12)
   "execution_count": 9,
>>>>>>> 5642ce0397dcf098becba1d620b7df8610ea4e7f
   "metadata": {},
   "outputs": [
    {
     "name": "stdout",
     "output_type": "stream",
     "text": [
      "78.0\n",
      "30.5\n",
      "52.0\n"
     ]
    }
   ],
   "source": [
<<<<<<< HEAD
=======
=======
<<<<<<< HEAD
   "execution_count": 13,
=======
   "execution_count": 9,
>>>>>>> 5642ce0397dcf098becba1d620b7df8610ea4e7f
   "metadata": {},
   "outputs": [
    {
     "name": "stdout",
     "output_type": "stream",
     "text": [
      "78.0\n",
      "30.5\n",
      "52.0\n"
     ]
    }
   ],
   "source": [
>>>>>>> 29be715 (add lesson 12)
<<<<<<< HEAD
    "def make_averager(accumulation_period: int):\n",
    "    amount = 0\n",
    "    general_sum = 0\n",
    "\n",
    "    def get_avg1(elem: float):\n",
    "        nonlocal amount\n",
    "        nonlocal general_sum\n",
    "        amount += 1\n",
    "        general_sum += elem\n",
    "        mean = general_sum / amount\n",
    "        if amount == accumulation_period:\n",
    "            amount = 0\n",
    "            general_sum = 0\n",
    "        \n",
    "        return mean\n",
    "    \n",
    "    return get_avg1\n",
    "    \n",
    "get_avg1 = make_averager(accumulation_period=2)\n",
    "print(get_avg1(78))\n",
    "print(get_avg1(-17))\n",
    "print(get_avg1(52))\n"
=======
<<<<<<< HEAD
=======
>>>>>>> 90ba8be (add lesson 12)
>>>>>>> 29be715 (add lesson 12)
    "# ваш код\n",
    "def make_averager(accumulation_period=30):\n",
    "    sum_general = amount = 0\n",
    "\n",
    "    def get_avg(new_value):\n",
    "        nonlocal sum_general, amount\n",
    "        sum_general += new_value\n",
    "        amount += 1\n",
    "        avg = sum_general / amount\n",
    "\n",
    "        if amount == accumulation_period:\n",
    "            sum_general = amount = 0\n",
    "        return avg\n",
    "\n",
    "    return get_avg"
   ]
  },
  {
   "cell_type": "code",
   "execution_count": 10,
   "metadata": {},
   "outputs": [
    {
     "name": "stdout",
     "output_type": "stream",
     "text": [
      "78.0\n",
      "30.5\n",
      "52.0\n"
     ]
    }
   ],
   "source": [
    "get_avg1 = make_averager(accumulation_period=2)\n",
    "print(get_avg1(78))\n",
    "print(get_avg1(-17))\n",
    "print(get_avg1(52))"
<<<<<<< HEAD
>>>>>>> 5642ce0397dcf098becba1d620b7df8610ea4e7f
=======
<<<<<<< HEAD
=======
>>>>>>> 5642ce0397dcf098becba1d620b7df8610ea4e7f
>>>>>>> 90ba8be (add lesson 12)
>>>>>>> 29be715 (add lesson 12)
   ]
  },
  {
   "cell_type": "markdown",
   "metadata": {},
   "source": [
    "# Задача 3: Сбор статистик\n",
    "\n",
    "Предположим, что мы работаем в отделе аналитики некоторой компании. В компании также существуют другие отделы, которые разрабатывают некоторые функции для осуществления сложных вычислений. Также в нашей компании существует отдел планирования, который следит за исполнением сроков реализации той или иной функции, и в случае, если разработка затягивается, начинает торопить разработчиков. В таком случае разработчики пишут медленный код на скорую руку, что расстраивает заказчиков.\n",
    "\n",
    "Наша задача, как аналитиков, собрать статистику по проблемным функциям. Нас интересует количество вызовов функции, а также среднее время выполнения функции. Все статистики собираются в отдельную базу данных - специальный единый словарь. Более того, статистика должна собираться не для всех функций, а только для функций, зарегестрированных в базе данных. Затем эта информация будет передана начальству, чтобы в скорейшее время заняться переписанием долгих и популярных функций.\n",
    "\n",
    "Ваша задача реализовать функционал для регистрации функций в БД и сбора статистик. "
   ]
  },
  {
   "cell_type": "code",
<<<<<<< HEAD
<<<<<<< HEAD
   "execution_count": 23,
=======
   "execution_count": 1,
>>>>>>> 5642ce0397dcf098becba1d620b7df8610ea4e7f
=======
   "execution_count": 1,
=======
<<<<<<< HEAD
   "execution_count": 23,
=======
   "execution_count": 1,
>>>>>>> 5642ce0397dcf098becba1d620b7df8610ea4e7f
>>>>>>> 90ba8be (add lesson 12)
>>>>>>> 29be715 (add lesson 12)
   "metadata": {},
   "outputs": [],
   "source": [
    "from time import time, sleep\n",
<<<<<<< HEAD
<<<<<<< HEAD
=======
=======
<<<<<<< HEAD
>>>>>>> 29be715 (add lesson 12)
    "from functools import wraps\n",
    "from random import randint\n",
    "\n",
    "functions_register = {}\n",
    "\n",
    "def register(func):\n",
    "    global functions_register\n",
    "    if func not in functions_register:\n",
    "        functions_register[func.__name__] = {\"calls_amount\": 0, \"time_avg\": 0}\n",
    "    pass\n",
    "\n",
    "def statistic_deko(func):\n",
=======
<<<<<<< HEAD
=======
>>>>>>> 90ba8be (add lesson 12)
>>>>>>> 29be715 (add lesson 12)
    "import random\n",
    "from functools import wraps\n",
    "\n",
    "functions_register = {}\n",
    "\n",
    "# ваш код\n",
    "def register(func):\n",
    "    if func not in functions_register:\n",
    "        functions_register[func.__name__] = {\n",
    "            \"calls_amount\" : 0,\n",
    "            \"time_avg\" : None,\n",
    "        }\n",
    "\n",
    "\n",
    "def get_statistic_deco(func):\n",
<<<<<<< HEAD
>>>>>>> 5642ce0397dcf098becba1d620b7df8610ea4e7f
=======
<<<<<<< HEAD
=======
>>>>>>> 5642ce0397dcf098becba1d620b7df8610ea4e7f
>>>>>>> 90ba8be (add lesson 12)
>>>>>>> 29be715 (add lesson 12)
    "    register(func)\n",
    "\n",
    "    @wraps(func)\n",
    "    def func_with_stats(*args, **kwargs):\n",
<<<<<<< HEAD
<<<<<<< HEAD
=======
=======
<<<<<<< HEAD
>>>>>>> 29be715 (add lesson 12)
    "        global functions_register\n",
    "        time_start = time()\n",
    "\n",
    "        result = func(*args, **kwargs)\n",
    "\n",
    "        time_finish = time()\n",
    "        work_time = time_finish - time_start\n",
    "        total_time = functions_register[func.__name__][\"time_avg\"] * functions_register[func.__name__][\"calls_amount\"]\n",
    "        functions_register[func.__name__][\"calls_amount\"] += 1\n",
    "        new_total_time = total_time + work_time\n",
    "\n",
    "        functions_register[func.__name__][\"time_avg\"] = new_total_time / functions_register[func.__name__][\"calls_amount\"]\n",
    "\n",
    "        return result\n",
    "    \n",
    "    return func_with_stats\n",
    "\n",
    "@statistic_deko\n",
    "def rand_sleep():\n",
    "    t = randint(1, 4)\n",
    "    sleep(t)\n",
    "    return t"
=======
<<<<<<< HEAD
=======
>>>>>>> 90ba8be (add lesson 12)
>>>>>>> 29be715 (add lesson 12)
    "        time_start = time()\n",
    "        result = func(*args, **kwargs)\n",
    "        time_finish = time()\n",
    "        work_time  = time_finish - time_start\n",
    "\n",
    "        # global functions_register\n",
    "        func_name = func.__name__\n",
    "        if functions_register[func_name][\"calls_amount\"] == 0:\n",
    "            functions_register[func_name][\"calls_amount\"] = 1\n",
    "            functions_register[func_name][\"time_avg\"] = work_time\n",
    "        else:\n",
    "            total_time = functions_register[func_name][\"time_avg\"] * functions_register[func_name][\"calls_amount\"]\n",
    "            functions_register[func_name][\"calls_amount\"] += 1\n",
    "            functions_register[func_name][\"time_avg\"] = (total_time + work_time) / functions_register[func_name][\"calls_amount\"]\n",
    "        return result\n",
    "\n",
    "    return func_with_stats\n",
    "\n",
    "\n",
    "@get_statistic_deco\n",
    "def my_super_func():\n",
    "    sleeptime = random.randint(1, 3)\n",
    "    print(f\"my_super_func will sleep {sleeptime} seconds...\", end=\"\")\n",
    "    sleep(sleeptime)\n",
    "    print(\"Done!\")\n",
    "\n",
    "@get_statistic_deco\n",
    "def my_super_func2():\n",
    "    sleeptime = random.randint(2, 4)\n",
    "    print(f\"my_super_func2 will sleep {sleeptime} seconds...\", end=\"\")\n",
    "    sleep(sleeptime)\n",
    "    print(\"Done!\")"
<<<<<<< HEAD
>>>>>>> 5642ce0397dcf098becba1d620b7df8610ea4e7f
=======
<<<<<<< HEAD
=======
>>>>>>> 5642ce0397dcf098becba1d620b7df8610ea4e7f
>>>>>>> 90ba8be (add lesson 12)
>>>>>>> 29be715 (add lesson 12)
   ]
  },
  {
   "cell_type": "code",
<<<<<<< HEAD
<<<<<<< HEAD
   "execution_count": 26,
=======
   "execution_count": 2,
>>>>>>> 5642ce0397dcf098becba1d620b7df8610ea4e7f
=======
   "execution_count": 2,
=======
<<<<<<< HEAD
   "execution_count": 26,
=======
   "execution_count": 2,
>>>>>>> 5642ce0397dcf098becba1d620b7df8610ea4e7f
>>>>>>> 90ba8be (add lesson 12)
>>>>>>> 29be715 (add lesson 12)
   "metadata": {},
   "outputs": [
    {
     "name": "stdout",
     "output_type": "stream",
     "text": [
<<<<<<< HEAD
<<<<<<< HEAD
      "4 4 4 3\n",
      "{'rand_sleep': {'calls_amount': 12, 'time_avg': 3.000802834828695}}\n"
=======
=======
=======
<<<<<<< HEAD
      "4 4 4 3\n",
      "{'rand_sleep': {'calls_amount': 12, 'time_avg': 3.000802834828695}}\n"
=======
>>>>>>> 90ba8be (add lesson 12)
>>>>>>> 29be715 (add lesson 12)
      "my_super_func will sleep 3 seconds...Done!\n",
      "my_super_func will sleep 2 seconds...Done!\n",
      "my_super_func will sleep 1 seconds...Done!\n",
      "my_super_func will sleep 3 seconds...Done!\n",
      "my_super_func will sleep 1 seconds...Done!\n",
      "my_super_func will sleep 2 seconds...Done!\n",
      "my_super_func2 will sleep 2 seconds...Done!\n",
      "my_super_func2 will sleep 4 seconds...Done!\n",
      "my_super_func2 will sleep 4 seconds...Done!\n",
      "my_super_func2 will sleep 2 seconds...Done!\n",
      "my_super_func2 will sleep 4 seconds...Done!\n",
      "my_super_func2 will sleep 3 seconds...Done!\n"
<<<<<<< HEAD
>>>>>>> 5642ce0397dcf098becba1d620b7df8610ea4e7f
=======
<<<<<<< HEAD
=======
>>>>>>> 5642ce0397dcf098becba1d620b7df8610ea4e7f
>>>>>>> 90ba8be (add lesson 12)
>>>>>>> 29be715 (add lesson 12)
     ]
    }
   ],
   "source": [
<<<<<<< HEAD
<<<<<<< HEAD
    "print(rand_sleep(), rand_sleep(), rand_sleep(), rand_sleep())\n",
    "print(functions_register)"
=======
=======
=======
<<<<<<< HEAD
    "print(rand_sleep(), rand_sleep(), rand_sleep(), rand_sleep())\n",
    "print(functions_register)"
=======
>>>>>>> 90ba8be (add lesson 12)
>>>>>>> 29be715 (add lesson 12)
    "my_super_func()\n",
    "my_super_func()\n",
    "my_super_func()\n",
    "my_super_func()\n",
    "my_super_func()\n",
    "my_super_func()\n",
    "\n",
    "my_super_func2()\n",
    "my_super_func2()\n",
    "my_super_func2()\n",
    "my_super_func2()\n",
    "my_super_func2()\n",
    "my_super_func2()\n"
   ]
  },
  {
   "cell_type": "code",
   "execution_count": 3,
   "metadata": {},
   "outputs": [
    {
     "data": {
      "text/plain": [
       "{'my_super_func': {'calls_amount': 6, 'time_avg': 2.0024502277374268},\n",
       " 'my_super_func2': {'calls_amount': 6, 'time_avg': 3.1690328121185303}}"
      ]
     },
     "execution_count": 3,
     "metadata": {},
     "output_type": "execute_result"
    }
   ],
   "source": [
    "functions_register"
<<<<<<< HEAD
>>>>>>> 5642ce0397dcf098becba1d620b7df8610ea4e7f
=======
<<<<<<< HEAD
=======
>>>>>>> 5642ce0397dcf098becba1d620b7df8610ea4e7f
>>>>>>> 90ba8be (add lesson 12)
>>>>>>> 29be715 (add lesson 12)
   ]
  },
  {
   "cell_type": "markdown",
   "metadata": {},
   "source": [
    "# Задача 4: наивный LRU-кэш\n",
    "\n",
    "Представим, что вы являетесь сотрудником департамента оптимизаций некоторой компании, занимающейся разработкой ПО для научных вычислений. Раздел аналитиков предоставил вам исследование, согласно которому значительная часть функций в вашей компании работает очень медленно и должна быть оптимизирована. Более того, согласно исследованию, вызовы этих функций в основном осуществляются с ограниченным множеством аргументов. Для оптимизации этих функций вы решили использовать LRU-кэш:\n",
    "\n",
    "- вы заранее фиксируете размер кэша - памяти, выделенной для хранения результатов вычислений функции;  \n",
    "- в кэше хранится следующая информация: аргументы вызова - результат;  \n",
    "- помимо этого для каждой пары хранится время их последнего вызова;  \n",
    "- в случае достижения объема кэша установленной границы удаляются значения, чьи времена последних вызовов являются самыми старыми;  \n",
    "\n",
    "Для применения данного подхода ко всем проблемным функциям, не переписывая сами функции, вы решили реализовать параметрический декоратор, т.к. для разных функций требуется разный размер кеша.\n",
    "\n",
    "Ваша задача: реализовать описанный декоратор."
   ]
  },
  {
   "cell_type": "code",
<<<<<<< HEAD
<<<<<<< HEAD
   "execution_count": 1,
=======
   "execution_count": 52,
>>>>>>> 5642ce0397dcf098becba1d620b7df8610ea4e7f
=======
   "execution_count": 52,
=======
<<<<<<< HEAD
   "execution_count": 1,
=======
   "execution_count": 52,
>>>>>>> 5642ce0397dcf098becba1d620b7df8610ea4e7f
>>>>>>> 90ba8be (add lesson 12)
>>>>>>> 29be715 (add lesson 12)
   "metadata": {},
   "outputs": [],
   "source": [
    "from time import time, sleep\n",
<<<<<<< HEAD
<<<<<<< HEAD
=======
=======
<<<<<<< HEAD
>>>>>>> 29be715 (add lesson 12)
    "time0 = time()\n",
    "\n",
    "def LRU_cache(cache_size: int = 10):\n",
    "\n",
    "    def cache_decor(func):\n",
    "\n",
    "        cache_dir = {}\n",
    "\n",
    "        def caching(*args, **kwargs):\n",
    "            nonlocal cache_dir\n",
    "\n",
    "            key = args + tuple(kwargs.values())\n",
    "            if key in cache_dir:\n",
    "                cache_dir[key][\"time_call\"] = time() - time0\n",
    "                return cache_dir[key][\"value\"]\n",
    "            if len(cache_dir) == cache_size:\n",
    "                min_time = 1000000\n",
    "                for i in cache_dir:\n",
    "                    if cache_dir[i][\"time_call\"] < min_time:\n",
    "                        min_time = cache_dir[i][\"time_call\"]\n",
    "                        del_elem = i\n",
    "                del cache_dir[del_elem]\n",
    "            \n",
    "            cache_dir[key] = {\"value\": func(*args, **kwargs), \"time_call\": time() - time0}\n",
    "            return cache_dir[key][\"value\"]\n",
    "        return caching\n",
    "    return cache_decor\n",
    "                \n",
    "\n",
    "\n",
    "@LRU_cache(5)\n",
    "def some(t: int):\n",
    "    sleep(t)\n",
    "    return f\"hurray {t} sec\""
=======
<<<<<<< HEAD
=======
>>>>>>> 90ba8be (add lesson 12)
>>>>>>> 29be715 (add lesson 12)
    "from functools import wraps\n",
    "# ваш код\n",
    "\n",
    "\n",
    "def naiv_lru_cache(cache_size=5):\n",
    "    def apply_cache(func):\n",
    "        call_info = {}\n",
    "        time_info = {}\n",
    "\n",
    "        @wraps(func)\n",
    "        def call(*args, **kwargs):\n",
    "            print(call_info, time_info, sep=\"\\n\")\n",
    "\n",
    "            key = tuple(args + tuple(kwargs.values()))\n",
    "            cur_time = time()\n",
    "            if key in call_info:\n",
    "                time_info[key] = cur_time\n",
    "                return call_info[key]\n",
    "            \n",
    "            result = func(*args, **kwargs)\n",
    "\n",
    "            if len(call_info) == cache_size:\n",
    "                least_used_key = min(time_info.items(), key=lambda x: x[-1])[0]\n",
    "                del call_info[least_used_key]\n",
    "                del time_info[least_used_key]\n",
    "\n",
    "            call_info[key] = result\n",
    "            time_info[key] = cur_time\n",
    "            return result\n",
    "            \n",
    "        return call\n",
    "    return apply_cache\n",
    "\n",
    "\n",
    "\n",
    "\n",
    "@naiv_lru_cache(5)\n",
    "def super_func(x):\n",
    "    print(f\"super_func({x = }) started!\")\n",
    "    sleep(x)\n",
    "    return x"
<<<<<<< HEAD
>>>>>>> 5642ce0397dcf098becba1d620b7df8610ea4e7f
=======
<<<<<<< HEAD
=======
>>>>>>> 5642ce0397dcf098becba1d620b7df8610ea4e7f
>>>>>>> 90ba8be (add lesson 12)
>>>>>>> 29be715 (add lesson 12)
   ]
  },
  {
   "cell_type": "code",
<<<<<<< HEAD
<<<<<<< HEAD
   "execution_count": 5,
=======
   "execution_count": 62,
>>>>>>> 5642ce0397dcf098becba1d620b7df8610ea4e7f
=======
   "execution_count": 62,
=======
<<<<<<< HEAD
   "execution_count": 5,
=======
   "execution_count": 62,
>>>>>>> 5642ce0397dcf098becba1d620b7df8610ea4e7f
>>>>>>> 90ba8be (add lesson 12)
>>>>>>> 29be715 (add lesson 12)
   "metadata": {},
   "outputs": [
    {
     "name": "stdout",
     "output_type": "stream",
     "text": [
<<<<<<< HEAD
<<<<<<< HEAD
=======
=======
<<<<<<< HEAD
>>>>>>> 29be715 (add lesson 12)
      "hurray 0 sec\n",
      "hurray 1 sec\n",
      "hurray 2 sec\n",
      "hurray 3 sec\n",
      "hurray 4 sec\n",
      "hurray 5 sec\n",
      "hurray 5 sec\n",
      "hurray 3 sec\n",
      "hurray 3 sec\n"
=======
<<<<<<< HEAD
=======
>>>>>>> 90ba8be (add lesson 12)
>>>>>>> 29be715 (add lesson 12)
      "{(2,): 2, (3,): 3, (4,): 4, (5,): 5, (6,): 6}\n",
      "{(2,): 1698397561.1352177, (3,): 1698397561.1352637, (4,): 1698397561.1353033, (5,): 1698397561.135338, (6,): 1698397587.1443498}\n",
      "2||time = 0.00014925003051757812\n",
      "         -          \n",
      "{(2,): 2, (3,): 3, (4,): 4, (5,): 5, (6,): 6}\n",
      "{(2,): 1698397599.098065, (3,): 1698397561.1352637, (4,): 1698397561.1353033, (5,): 1698397561.135338, (6,): 1698397587.1443498}\n",
      "3||time = 5.316734313964844e-05\n",
      "         -          \n",
      "{(2,): 2, (3,): 3, (4,): 4, (5,): 5, (6,): 6}\n",
      "{(2,): 1698397599.098065, (3,): 1698397599.0981543, (4,): 1698397561.1353033, (5,): 1698397561.135338, (6,): 1698397587.1443498}\n",
      "4||time = 4.9591064453125e-05\n",
      "         -          \n",
      "{(2,): 2, (3,): 3, (4,): 4, (5,): 5, (6,): 6}\n",
      "{(2,): 1698397599.098065, (3,): 1698397599.0981543, (4,): 1698397599.0982351, (5,): 1698397561.135338, (6,): 1698397587.1443498}\n",
      "5||time = 4.9114227294921875e-05\n",
      "         -          \n",
      "{(2,): 2, (3,): 3, (4,): 4, (5,): 5, (6,): 6}\n",
      "{(2,): 1698397599.098065, (3,): 1698397599.0981543, (4,): 1698397599.0982351, (5,): 1698397599.0983088, (6,): 1698397587.1443498}\n",
      "6||time = 4.887580871582031e-05\n",
      "         -          \n"
<<<<<<< HEAD
>>>>>>> 5642ce0397dcf098becba1d620b7df8610ea4e7f
=======
<<<<<<< HEAD
=======
>>>>>>> 5642ce0397dcf098becba1d620b7df8610ea4e7f
>>>>>>> 90ba8be (add lesson 12)
>>>>>>> 29be715 (add lesson 12)
     ]
    }
   ],
   "source": [
<<<<<<< HEAD
<<<<<<< HEAD
=======
=======
<<<<<<< HEAD
>>>>>>> 29be715 (add lesson 12)
    "\n",
    "for i in range(6):\n",
    "    print(some(i))\n",
    "print(some(5))\n",
    "print(some(3))\n",
    "print(some(3))"
=======
<<<<<<< HEAD
=======
>>>>>>> 90ba8be (add lesson 12)
>>>>>>> 29be715 (add lesson 12)
    "for i in range(2, 7):\n",
    "    start = time()\n",
    "    print(super_func(i), end=\"||\")\n",
    "    finish = time()\n",
    "    print(f\"time = {finish - start}\")\n",
    "    print(\"-\".center(20))"
<<<<<<< HEAD
>>>>>>> 5642ce0397dcf098becba1d620b7df8610ea4e7f
=======
<<<<<<< HEAD
=======
>>>>>>> 5642ce0397dcf098becba1d620b7df8610ea4e7f
>>>>>>> 90ba8be (add lesson 12)
>>>>>>> 29be715 (add lesson 12)
   ]
  },
  {
   "cell_type": "code",
<<<<<<< HEAD
<<<<<<< HEAD
   "execution_count": 12,
=======
   "execution_count": 61,
>>>>>>> 5642ce0397dcf098becba1d620b7df8610ea4e7f
=======
   "execution_count": 61,
=======
<<<<<<< HEAD
   "execution_count": 12,
=======
   "execution_count": 61,
>>>>>>> 5642ce0397dcf098becba1d620b7df8610ea4e7f
>>>>>>> 90ba8be (add lesson 12)
>>>>>>> 29be715 (add lesson 12)
   "metadata": {},
   "outputs": [
    {
     "name": "stdout",
     "output_type": "stream",
     "text": [
<<<<<<< HEAD
<<<<<<< HEAD
=======
=======
<<<<<<< HEAD
>>>>>>> 29be715 (add lesson 12)
      "{(3,): {'value': 'hurray 3 sec', 'time_call': 252.50939512252808}, (1,): {'value': 'hurray 1 sec', 'time_call': 241.50339126586914}, (2,): {'value': 'hurray 2 sec', 'time_call': 243.50515866279602}, (4,): {'value': 'hurray 4 sec', 'time_call': 247.50650429725647}, (5,): {'value': 'hurray 5 sec', 'time_call': 252.50939512252808}}\n",
      "\n"
     ]
    }
   ],
   "source": [
    "print(some.__closure__[0].cell_contents)\n",
    "print()\n",
    "# for i in range()"
=======
<<<<<<< HEAD
=======
>>>>>>> 90ba8be (add lesson 12)
>>>>>>> 29be715 (add lesson 12)
      "{(1,): 1, (2,): 2, (3,): 3, (4,): 4, (5,): 5}\n",
      "{(1,): 1698397561.1351657, (2,): 1698397561.1352177, (3,): 1698397561.1352637, (4,): 1698397561.1353033, (5,): 1698397561.135338}\n",
      "super_func(x = 6) started!\n"
     ]
    },
    {
     "data": {
      "text/plain": [
       "6"
      ]
     },
     "execution_count": 61,
     "metadata": {},
     "output_type": "execute_result"
    }
   ],
   "source": [
    "super_func(6)"
<<<<<<< HEAD
>>>>>>> 5642ce0397dcf098becba1d620b7df8610ea4e7f
=======
<<<<<<< HEAD
=======
>>>>>>> 5642ce0397dcf098becba1d620b7df8610ea4e7f
>>>>>>> 90ba8be (add lesson 12)
>>>>>>> 29be715 (add lesson 12)
   ]
  }
 ],
 "metadata": {
  "kernelspec": {
   "display_name": "Python 3",
   "language": "python",
   "name": "python3"
  },
  "language_info": {
   "codemirror_mode": {
    "name": "ipython",
    "version": 3
   },
   "file_extension": ".py",
   "mimetype": "text/x-python",
   "name": "python",
   "nbconvert_exporter": "python",
   "pygments_lexer": "ipython3",
<<<<<<< HEAD
<<<<<<< HEAD
   "version": "3.11.5"
=======
   "version": "3.9.13"
>>>>>>> 5642ce0397dcf098becba1d620b7df8610ea4e7f
=======
   "version": "3.9.13"
=======
<<<<<<< HEAD
   "version": "3.11.5"
=======
   "version": "3.9.13"
>>>>>>> 5642ce0397dcf098becba1d620b7df8610ea4e7f
>>>>>>> 90ba8be (add lesson 12)
>>>>>>> 29be715 (add lesson 12)
  }
 },
 "nbformat": 4,
 "nbformat_minor": 2
}
